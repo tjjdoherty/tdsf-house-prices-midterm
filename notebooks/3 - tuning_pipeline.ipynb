{
 "cells": [
  {
   "cell_type": "markdown",
   "metadata": {},
   "source": [
    "## Hyperparam Tuning\n",
    "\n",
    "XGBoost was our strongest performing model in 2 - Model Selection\n",
    "- Looking into best params for XGBoost\n",
    "- n_estimators Range: [50, 100, 200, 500]\n",
    "- Range: [0.01, 0.05, 0.1, 0.2, 0.3]\n",
    "- A lower learning rate (e.g., 0.01, 0.05) usually requires more n_estimators, but it helps avoid overfitting. learning_rate = 0.1 is commonly used as a baseline.\n",
    "- max_depth (Maximum Depth of a Tree) Range: [3, 5, 7, 9, 12] Deeper trees can lead to more complex models but may overfit the data. A value between 3 and 7 is typically effective for most datasets, but for more complex data, you can explore depths beyond that.\n",
    "\n",
    "GridSearchCV can be used to determine these \n",
    "\n",
    "There is a fairly significant issue with this approach for this particular problem (described below). But in the interest of creating a basic functional pipeline, you can just use the default Sklearn methods for now."
   ]
  },
  {
   "cell_type": "code",
   "execution_count": null,
   "metadata": {},
   "outputs": [],
   "source": [
    "\n"
   ]
  },
  {
   "cell_type": "markdown",
   "metadata": {},
   "source": [
    "## Hyperparam Tuning"
   ]
  },
  {
   "cell_type": "code",
   "execution_count": 5,
   "metadata": {},
   "outputs": [
    {
     "name": "stdout",
     "output_type": "stream",
     "text": [
      "Fitting 5 folds for each of 2916 candidates, totalling 14580 fits\n",
      "Best hyperparameters: {'xgb__alpha': 0.5, 'xgb__colsample_bytree': 0.6, 'xgb__lambda': 2, 'xgb__learning_rate': 0.1, 'xgb__max_depth': 5, 'xgb__n_estimators': 200, 'xgb__subsample': 0.8}\n",
      "Test MSE: 50103068496.18618\n",
      "Test RMSE: 223837.14726601163\n",
      "Test R^2 Score: 0.5237392538241991\n",
      "Best cross-validation RMSE: 48260433585.782364\n"
     ]
    }
   ],
   "source": [
    "# perform tuning and cross validation here \n",
    "# using GridsearchCV/ RandomsearchCV (MVP)\n",
    "# or your custom functions\n",
    "\n",
    "import xgboost as xgb\n",
    "from sklearn.model_selection import GridSearchCV, train_test_split\n",
    "from sklearn.preprocessing import StandardScaler\n",
    "from sklearn.pipeline import Pipeline\n",
    "from sklearn.metrics import mean_squared_error, r2_score\n",
    "import pandas as pd\n",
    "\n",
    "# Load your dataset\n",
    "# data = pd.read_csv(\"/Users/spencer.fargey/lighthouselabs/tdsf-midterm/df_linear_model.csv\")\n",
    "data = pd.read_csv(\"/Users/thomasdoherty/Desktop/tdsf-midterm/df_linear_model.csv\")\n",
    "\n",
    "\n",
    "# Define the features and target\n",
    "X = data.drop('description.sold_price', axis=1)\n",
    "y = data['description.sold_price']\n",
    "\n",
    "# Apply percentile capping as done previously to prevent extreme outliers\n",
    "lower_percentile = 0.01\n",
    "upper_percentile = 0.99\n",
    "lower_bound = y.quantile(lower_percentile)\n",
    "upper_bound = y.quantile(upper_percentile)\n",
    "y_capped = y.clip(lower_bound, upper_bound)\n",
    "\n",
    "# Split the data into training and testing sets\n",
    "X_train, X_test, y_train, y_test = train_test_split(X, y_capped, test_size=0.2, random_state=42)\n",
    "\n",
    "# Create a pipeline with scaling and XGBoost regressor\n",
    "pipeline = Pipeline([\n",
    "    ('scaler', StandardScaler()),  # Preprocessing step: scaling\n",
    "    ('xgb', xgb.XGBRegressor(objective='reg:squarederror', random_state=42))  # XGBoost Regressor\n",
    "])\n",
    "\n",
    "# Define the hyperparameter grid to search\n",
    "param_grid = {\n",
    "    'xgb__n_estimators': [50, 100, 200],   # Number of boosting rounds\n",
    "    'xgb__learning_rate': [0.01, 0.05, 0.1, 0.2],  # Learning rate (step size shrinkage) - lower learning rates help avoid overfitting\n",
    "    'xgb__max_depth': [3, 5, 7],  # Maximum depth of a tree\n",
    "    'xgb__subsample': [0.6, 0.8, 1.0],  # Subsample ratio of the training instances\n",
    "    'xgb__colsample_bytree': [0.6, 0.8, 1.0],  # Subsample ratio of columns when constructing each tree\n",
    "    'xgb__alpha': [0, 0.1, 0.5],\n",
    "    'xgb__lambda': [0.5, 1, 2]\n",
    "}\n",
    "\n",
    "# Initialize GridSearchCV with the pipeline and hyperparameters grid\n",
    "grid_search = GridSearchCV(pipeline, param_grid, cv=5, scoring='neg_mean_squared_error', verbose=1)\n",
    "\n",
    "# Fit the grid search to find the best hyperparameters\n",
    "grid_search.fit(X_train, y_train)\n",
    "\n",
    "# Print the best hyperparameters found\n",
    "print(f\"Best hyperparameters: {grid_search.best_params_}\")\n",
    "\n",
    "# Predict on the test data using the best model\n",
    "best_model = grid_search.best_estimator_\n",
    "y_pred = best_model.predict(X_test)\n",
    "\n",
    "# Calculate and print test MSE\n",
    "mse = mean_squared_error(y_test, y_pred)\n",
    "print(f\"Test MSE: {mse}\")\n",
    "\n",
    "# Optionally, print RMSE for better interpretability\n",
    "rmse = mse ** 0.5\n",
    "print(f\"Test RMSE: {rmse}\")\n",
    "\n",
    "# Calculate and print R^2 score\n",
    "r2 = r2_score(y_test, y_pred)\n",
    "print(f\"Test R^2 Score: {r2}\")\n",
    "\n",
    "# Print the best RMSE score from cross-validation\n",
    "best_rmse = abs(grid_search.best_score_)  # Since 'neg_root_mean_squared_error' returns negative values\n",
    "print(f\"Best cross-validation RMSE: {best_rmse}\")\n"
   ]
  },
  {
   "cell_type": "markdown",
   "metadata": {},
   "source": [
    "### Thoughts on Results\n",
    "\n",
    "- R^2 test is still quite average at 52%\n",
    "- We are supplying data that has already been preprocessed in the 1 - EDA and 2 - model_selection notebooks but we may want to re factor things so that the cleaning and scaling etc we did in 1 - EDA can be done here as part of the pipeline. \n",
    "- Currently because we are supplying cleaned data as a file. XGBoost has a cross validation built in but it doesn't do preprocessing so while this works currently, if we wanted to supply new housing data we would need to update the pipeline to do some of the transformations, maybe in a custom function?"
   ]
  },
  {
   "cell_type": "markdown",
   "metadata": {},
   "source": [
    "We want to make sure that we save our models.  In the old days, one just simply pickled (serialized) the model.  Now, however, certain model types have their own save format.  If the model is from sklearn, it can be pickled, if it's xgboost, for example, the newest format to save it in is JSON, but it can also be pickled.  It's a good idea to stay with the most current methods. \n",
    "- you may want to create a new `models/` subdirectory in your repo to stay organized"
   ]
  },
  {
   "cell_type": "markdown",
   "metadata": {},
   "source": [
    "## Building a Pipeline (Stretch)\n",
    "\n",
    "> **This step doesn't need to be part of your Minimum Viable Product (MVP), but its highly recommended you complete it if you have time!**\n",
    "\n",
    "Once you've identified which model works the best, implement a prediction pipeline to make sure that you haven't leaked any data, and that the model could be easily deployed if desired.\n",
    "- Your pipeline should load the data, process it, load your saved tuned model, and output a set of predictions\n",
    "- Assume that the new data is in the same JSON format as your original data - you can use your original data to check that the pipeline works correctly\n",
    "- Beware that a pipeline can only handle functions with fit and transform methods.\n",
    "- Classes can be used to get around this, but now sklearn has a wrapper for user defined functions.\n",
    "- You can develop your functions or classes in the notebook here, but once they are working, you should import them from `functions_variables.py` "
   ]
  },
  {
   "cell_type": "code",
   "execution_count": null,
   "metadata": {},
   "outputs": [],
   "source": []
  },
  {
   "cell_type": "code",
   "execution_count": null,
   "metadata": {},
   "outputs": [],
   "source": [
    "# Build pipeline here"
   ]
  },
  {
   "cell_type": "markdown",
   "metadata": {},
   "source": [
    "Pipelines come from sklearn.  When a pipeline is pickled, all of the information in the pipeline is stored with it.  For example, if we were deploying a model, and we had fit a scaler on the training data, we would want the same, already fitted scaling object to transform the new data with.  This is all stored when the pipeline is pickled.\n",
    "- save your final pipeline in your `models/` folder"
   ]
  },
  {
   "cell_type": "code",
   "execution_count": 3,
   "metadata": {},
   "outputs": [],
   "source": [
    "# save your pipeline here"
   ]
  },
  {
   "cell_type": "markdown",
   "metadata": {},
   "source": [
    "### Saving our Model"
   ]
  },
  {
   "cell_type": "code",
   "execution_count": 7,
   "metadata": {},
   "outputs": [
    {
     "name": "stdout",
     "output_type": "stream",
     "text": [
      "Best model saved as 'best_xgboost_model_2_copy.pkl'\n"
     ]
    }
   ],
   "source": [
    "\n",
    "# save your best model here\n",
    "\n",
    "import joblib\n",
    "\n",
    "# Save the best model to a file in the models directory\n",
    "best_model = grid_search.best_estimator_\n",
    "joblib.dump(best_model, '../models/best_xgboost_model_2_copy.pkl')\n",
    "\n",
    "print(\"Best model saved as 'best_xgboost_model_2_copy.pkl'\")"
   ]
  },
  {
   "cell_type": "code",
   "execution_count": 7,
   "metadata": {},
   "outputs": [],
   "source": [
    "# Load the saved model\n",
    "loaded_model = joblib.load('../models/best_xgboost_model.pkl')\n",
    "\n",
    "# Use the loaded model for predictions\n",
    "y_pred_loaded = loaded_model.predict(X_test)"
   ]
  },
  {
   "cell_type": "markdown",
   "metadata": {},
   "source": [
    "\n",
    "\n",
    "## Post-Project \n",
    "\n",
    "## Preventing Data Leakage in Tuning - STRETCH\n",
    "\n",
    "> **This step doesn't need to be part of your Minimum Viable Product (MVP), but its highly recommended you complete it, if you have time!**\n",
    "\n",
    "BUT we have a problem - if we calculated a numerical value to encode city (such as the mean of sale prices in that city) on the training data, we can't cross validate \n",
    "- The rows in each validation fold were part of the original calculation of the mean for that city - that means we're leaking information!\n",
    "- While sklearn's built in functions are extremely useful, sometimes it is necessary to do things ourselves\n",
    "\n",
    "You need to create two functions to replicate what Gridsearch does under the hood. This is a challenging, real world data problem! To help you out, we've created some psuedocode and docstrings to get you started. \n",
    "\n",
    "**`custom_cross_validation()`**\n",
    "- Should take the training data, and divide it into multiple train/validation splits. \n",
    "- Look into `sklearn.model_selection.KFold` to accomplish this - the [documentation](https://scikit-learn.org/stable/modules/generated/sklearn.model_selection.KFold.html) shows how to split a dataframe and loop through the indexes of your split data. \n",
    "- Within your function, you should compute the city means on the training folds just like you did in Notebook 1 - you may have to re-join the city column to do this - and then join these values to the validation fold\n",
    "\n",
    "This psuedocode may help you fill in the function:\n",
    "\n",
    "```python\n",
    "kfold = KFold() # fit sklearn k folds on X_train\n",
    "train_folds = []\n",
    "val_folds = []\n",
    "for training_index, val_index in kfold.split(X_train):\n",
    "    train_fold, val_fold = #.iloc loop variables on X_train\n",
    "\n",
    "    # recompute training city means like you did in notebook 1 \n",
    "    # merge to validation fold\n",
    "        \n",
    "    train_folds.append(train_fold)\n",
    "    val_folds.append(val_fold)\n",
    "\n",
    "    return train_folds, val_folds\n",
    "```\n",
    "\n",
    "\n",
    "**`hyperparameter_search()`**\n",
    "- Should take the validation and training splits from your previous function, along with your dictionary of hyperparameter values\n",
    "- For each set of hyperparameter values, fit your chosen model on each set of training folds, and take the average of your chosen scoring metric. [itertools.product()](https://docs.python.org/3/library/itertools.html) will be helpful for looping through all combinations of hyperparameter values\n",
    "- Your function should output the hyperparameter values corresponding the highest average score across all folds. Alternatively, it could also output a model object fit on the full training dataset with these parameters.\n",
    "\n",
    "\n",
    "This psuedocode may help you fill in the function:\n",
    "\n",
    "```python\n",
    "hyperparams = # Generate hyperparam options with itertools\n",
    "hyperparam-scores = []\n",
    "for hyperparam-combo in hyperparams:\n",
    "\n",
    "    scores = []\n",
    "\n",
    "    for folds in allmyfolds:\n",
    "        # score fold the fold with the model/ hyperparams\n",
    "        scores.append(score-fold)\n",
    "        \n",
    "    score = scores.mean()\n",
    "    hyperparam-scores.append(score)\n",
    "# After loop, find max of hyperparam-scores. Best params are at same index in `hyperparams` loop iteratble\n",
    "```\n",
    "\n",
    "Docstrings have been provided below to get you started. Once you're done developing your functions, you should move them to `functions_variables.py` to keep your notebook clean \n",
    "\n",
    "Bear in mind that these instructions are just one way to tackle this problem - the inputs and output formats don't need to be exactly as specified here."
   ]
  },
  {
   "cell_type": "code",
   "execution_count": 3,
   "metadata": {},
   "outputs": [],
   "source": [
    "# develop your custom functions here\n",
    "\n",
    "def custom_cross_validation(training_data, n_splits =5):\n",
    "    '''creates n_splits sets of training and validation folds\n",
    "\n",
    "    Args:\n",
    "      training_data: the dataframe of features and target to be divided into folds\n",
    "      n_splits: the number of sets of folds to be created\n",
    "\n",
    "    Returns:\n",
    "      A tuple of lists, where the first index is a list of the training folds, \n",
    "      and the second the corresponding validation fold\n",
    "\n",
    "    Example:\n",
    "        >>> output = custom_cross_validation(train_df, n_splits = 10)\n",
    "        >>> output[0][0] # The first training fold\n",
    "        >>> output[1][0] # The first validation fold\n",
    "        >>> output[0][1] # The second training fold\n",
    "        >>> output[1][1] # The second validation fold... etc.\n",
    "    '''\n",
    "\n",
    "    return training_folds, validation_folds\n",
    "\n",
    "def hyperparameter_search(training_folds, validation_folds, param_grid):\n",
    "    '''outputs the best combination of hyperparameter settings in the param grid, \n",
    "    given the training and validation folds\n",
    "\n",
    "    Args:\n",
    "      training_folds: the list of training fold dataframes\n",
    "      validation_folds: the list of validation fold dataframes\n",
    "      param_grid: the dictionary of possible hyperparameter values for the chosen model\n",
    "\n",
    "    Returns:\n",
    "      A list of the best hyperparameter settings based on the chosen metric\n",
    "\n",
    "    Example:\n",
    "        >>> param_grid = {\n",
    "          'max_depth': [None, 10, 20, 30],\n",
    "          'min_samples_split': [2, 5, 10],\n",
    "          'min_samples_leaf': [1, 2, 4],\n",
    "          'max_features': ['sqrt', 'log2']} # for random forest\n",
    "        >>> hyperparameter_search(output[0], output[1], param_grid = param_grid) \n",
    "        # assuming 'ouput' is the output of custom_cross_validation()\n",
    "        [20, 5, 2, 'log2'] # hyperparams in order\n",
    "    '''\n",
    "\n",
    "    return hyperparameters"
   ]
  }
 ],
 "metadata": {
  "kernelspec": {
   "display_name": "Python 3",
   "language": "python",
   "name": "python3"
  },
  "language_info": {
   "codemirror_mode": {
    "name": "ipython",
    "version": 3
   },
   "file_extension": ".py",
   "mimetype": "text/x-python",
   "name": "python",
   "nbconvert_exporter": "python",
   "pygments_lexer": "ipython3",
   "version": "3.12.2"
  }
 },
 "nbformat": 4,
 "nbformat_minor": 2
}
