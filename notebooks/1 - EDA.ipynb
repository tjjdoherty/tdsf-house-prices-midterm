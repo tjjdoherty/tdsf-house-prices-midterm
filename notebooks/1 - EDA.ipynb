{
 "cells": [
  {
   "cell_type": "markdown",
   "metadata": {},
   "source": [
    "# EDA"
   ]
  },
  {
   "cell_type": "markdown",
   "metadata": {},
   "source": [
    "\n",
    "- The os module has a perfect method to list files in a directory.\n",
    "- Pandas json normalize could work here but is not necessary to convert the JSON data to a dataframe.\n",
    "- You may need a nested for-loop to access each sale!\n",
    "- We've put a lot of time into creating the structure of this repository, and it's a good example for future projects.  In the file functions_variables.py, there is an example function that you can import and use.  If you have any variables, functions or classes that you want to make, they can be put in the functions_variables.py file and imported into a notebook.  Note that only .py files can be imported into a notebook. If you want to import everything from a .py file, you can use the following:\n",
    "```python\n",
    "from functions_variables import *\n",
    "```\n",
    "If you just import functions_variables, then each object from the file will need to be prepended with \"functions_variables\"\\\n",
    "Using this .py file will keep your notebooks very organized and make it easier to reuse code between notebooks."
   ]
  },
  {
   "cell_type": "code",
   "execution_count": 1,
   "metadata": {},
   "outputs": [],
   "source": [
    "# (this is not an exhaustive list of libraries)\n",
    "import pandas as pd\n",
    "import numpy as np\n",
    "import os\n",
    "import json\n",
    "from pprint import pprint\n",
    "from functions_variables import encode_tags\n",
    "from os import listdir\n",
    "from os.path import join, isfile\n"
   ]
  },
  {
   "cell_type": "markdown",
   "metadata": {},
   "source": [
    "## Data Importing"
   ]
  },
  {
   "cell_type": "code",
   "execution_count": null,
   "metadata": {},
   "outputs": [],
   "source": [
    "# load one file first to see what type of data you're dealing with and what attributes it has"
   ]
  },
  {
   "cell_type": "code",
   "execution_count": 2,
   "metadata": {},
   "outputs": [
    {
     "name": "stdout",
     "output_type": "stream",
     "text": [
      "          last_update_date                                               tags  \\\n",
      "0     2023-09-19T20:52:50Z  [carport, community_outdoor_space, cul_de_sac,...   \n",
      "1                     None                                               None   \n",
      "2                     None                                               None   \n",
      "3                     None                                               None   \n",
      "4                     None                                               None   \n",
      "...                    ...                                                ...   \n",
      "8186                   NaN                                                NaN   \n",
      "8187                   NaN                                                NaN   \n",
      "8188                   NaN                                                NaN   \n",
      "8189                   NaN                                                NaN   \n",
      "8190                   NaN                                                NaN   \n",
      "\n",
      "                                              permalink status  \\\n",
      "0          9453-Herbert-Pl_Juneau_AK_99801_M90744-30767   sold   \n",
      "1     8477-Thunder-Mountain-Rd_Juneau_AK_99801_M9424...   sold   \n",
      "2         4515-Glacier-Hwy_Juneau_AK_99801_M94790-68516   sold   \n",
      "3     17850-Point-Stephens-Rd_Juneau_AK_99801_M98793...   sold   \n",
      "4     9951-Stephen-Richards-Memorial-Dr_Juneau_AK_99...   sold   \n",
      "...                                                 ...    ...   \n",
      "8186                                                NaN    NaN   \n",
      "8187                                                NaN    NaN   \n",
      "8188                                                NaN    NaN   \n",
      "8189                                                NaN    NaN   \n",
      "8190                                                NaN    NaN   \n",
      "\n",
      "                        list_date open_houses  \\\n",
      "0     2023-06-29T21:16:25.000000Z        None   \n",
      "1                            None        None   \n",
      "2                            None        None   \n",
      "3                            None        None   \n",
      "4                            None        None   \n",
      "...                           ...         ...   \n",
      "8186                          NaN         NaN   \n",
      "8187                          NaN         NaN   \n",
      "8188                          NaN         NaN   \n",
      "8189                          NaN         NaN   \n",
      "8190                          NaN         NaN   \n",
      "\n",
      "                                               branding  list_price  \\\n",
      "0     [{'name': 'EXP Realty LLC - Southeast Alaska',...    554950.0   \n",
      "1     [{'name': None, 'photo': None, 'type': 'Office'}]         NaN   \n",
      "2     [{'name': None, 'photo': None, 'type': 'Office'}]         NaN   \n",
      "3     [{'name': None, 'photo': None, 'type': 'Office'}]         NaN   \n",
      "4     [{'name': None, 'photo': None, 'type': 'Office'}]         NaN   \n",
      "...                                                 ...         ...   \n",
      "8186                                                NaN         NaN   \n",
      "8187                                                NaN         NaN   \n",
      "8188                                                NaN         NaN   \n",
      "8189                                                NaN         NaN   \n",
      "8190                                                NaN         NaN   \n",
      "\n",
      "     property_id                                             photos  ...  \\\n",
      "0     9074430767  [{'tags': [{'label': 'house_view', 'probabilit...  ...   \n",
      "1     9424983842                                               None  ...   \n",
      "2     9479068516                                               None  ...   \n",
      "3     9879331943                                               None  ...   \n",
      "4     9521639574                                               None  ...   \n",
      "...          ...                                                ...  ...   \n",
      "8186         NaN                                                NaN  ...   \n",
      "8187         NaN                                                NaN  ...   \n",
      "8188         NaN                                                NaN  ...   \n",
      "8189         NaN                                                NaN  ...   \n",
      "8190         NaN                                                NaN  ...   \n",
      "\n",
      "     location.county.fips_code location.county.name primary_photo  source  \\\n",
      "0                         None               Juneau           NaN     NaN   \n",
      "1                         None               Juneau           NaN     NaN   \n",
      "2                         None               Juneau           NaN     NaN   \n",
      "3                         None               Juneau           NaN     NaN   \n",
      "4                         None               Juneau           NaN     NaN   \n",
      "...                        ...                  ...           ...     ...   \n",
      "8186                       NaN                  NaN           NaN     NaN   \n",
      "8187                       NaN                  NaN           NaN     NaN   \n",
      "8188                       NaN                  NaN           NaN     NaN   \n",
      "8189                       NaN                  NaN           NaN     NaN   \n",
      "8190                       NaN                  NaN           NaN     NaN   \n",
      "\n",
      "     products location.address.coordinate other_listings  \\\n",
      "0         NaN                         NaN            NaN   \n",
      "1         NaN                         NaN            NaN   \n",
      "2         NaN                         NaN            NaN   \n",
      "3         NaN                         NaN            NaN   \n",
      "4         NaN                         NaN            NaN   \n",
      "...       ...                         ...            ...   \n",
      "8186      NaN                         NaN            NaN   \n",
      "8187      NaN                         NaN            NaN   \n",
      "8188      NaN                         NaN            NaN   \n",
      "8189      NaN                         NaN            NaN   \n",
      "8190      NaN                         NaN            NaN   \n",
      "\n",
      "     community.advertisers community.description.name location.county  \n",
      "0                      NaN                        NaN             NaN  \n",
      "1                      NaN                        NaN             NaN  \n",
      "2                      NaN                        NaN             NaN  \n",
      "3                      NaN                        NaN             NaN  \n",
      "4                      NaN                        NaN             NaN  \n",
      "...                    ...                        ...             ...  \n",
      "8186                   NaN                        NaN             NaN  \n",
      "8187                   NaN                        NaN             NaN  \n",
      "8188                   NaN                        NaN             NaN  \n",
      "8189                   NaN                        NaN             NaN  \n",
      "8190                   NaN                        NaN             NaN  \n",
      "\n",
      "[8191 rows x 67 columns]\n"
     ]
    },
    {
     "name": "stderr",
     "output_type": "stream",
     "text": [
      "C:\\Users\\spencer.fargey\\AppData\\Local\\Temp\\ipykernel_30164\\1544192030.py:44: FutureWarning: The behavior of DataFrame concatenation with empty or all-NA entries is deprecated. In a future version, this will no longer exclude empty or all-NA columns when determining the result dtypes. To retain the old behavior, exclude the relevant entries before the concat operation.\n",
      "  final_df = pd.concat(dataframes, ignore_index=True)\n"
     ]
    }
   ],
   "source": [
    "# loop over all files and put them into a dataframe\n",
    "import os\n",
    "import pandas as pd\n",
    "\n",
    "# Directory containing your JSON files\n",
    "json_directory = 'C:/Users/spencer.fargey/LighthouseLabs/tdsf-midterm/data'  # Replace with the actual path to your directory\n",
    "\n",
    "# Initialize an empty list to store DataFrames from each JSON file\n",
    "dataframes = []\n",
    "\n",
    "# Function to load and process each JSON file\n",
    "def load_json_file(fname):\n",
    "    \"\"\"\n",
    "    This function loads a JSON file (assumed to be ASCII-readable)\n",
    "    and extracts the 'results' from the 'data' field.\n",
    "    \"\"\"\n",
    "    with open(fname, 'r') as f:\n",
    "        try:\n",
    "            data_json = json.load(f)\n",
    "            # Check if 'data' and 'results' exist in the loaded JSON\n",
    "            if 'data' in data_json and 'results' in data_json['data']:\n",
    "                df = pd.json_normalize(data_json['data']['results'])\n",
    "            else:\n",
    "                raise KeyError(\"'data' or 'results' field not found in the JSON file\")\n",
    "        except json.JSONDecodeError as e:\n",
    "            print(f\"Error decoding JSON in file {fname}: {e}\")\n",
    "            return None\n",
    "        except KeyError as e:\n",
    "            print(f\"Key error in file {fname}: {e}\")\n",
    "            return None\n",
    "    \n",
    "    return df\n",
    "\n",
    "# Loop through all files in the directory\n",
    "for filename in os.listdir(json_directory):\n",
    "    if filename.endswith(\".json\"):  # Check if the file is a JSON file\n",
    "        file_path = os.path.join(json_directory, filename)  # Full file path\n",
    "        df = load_json_file(file_path)  # Call load_json_file with fname\n",
    "        if df is not None:  # If the DataFrame is valid, append to list\n",
    "            dataframes.append(df)\n",
    "\n",
    "# Combine all DataFrames into one\n",
    "if dataframes:\n",
    "    final_df = pd.concat(dataframes, ignore_index=True)\n",
    "    print(final_df)\n",
    "else:\n",
    "    print(\"No valid JSON files were processed.\")\n"
   ]
  },
  {
   "cell_type": "code",
   "execution_count": 3,
   "metadata": {},
   "outputs": [
    {
     "name": "stdout",
     "output_type": "stream",
     "text": [
      "CSV saved to: C:/Users/spencer.fargey/LighthouseLabs/tdsf-midterm/Housing_Data.csv\n"
     ]
    }
   ],
   "source": [
    "# Save the first 50 rows of the dataframe to a CSV file\n",
    "output_csv_path = 'C:/Users/spencer.fargey/LighthouseLabs/tdsf-midterm/Housing_Data.csv'\n",
    "final_df.to_csv(output_csv_path, index=False)\n",
    "\n",
    "print(f\"CSV saved to: {output_csv_path}\")\n"
   ]
  },
  {
   "cell_type": "markdown",
   "metadata": {},
   "source": [
    "## Data Cleaning and Wrangling"
   ]
  },
  {
   "cell_type": "markdown",
   "metadata": {},
   "source": [
    "At this point, ensure that you have all sales in a dataframe.\n",
    "- Take a quick look at your data (i.e. `.info()`, `.describe()`) - what do you see?\n",
    "- Is each cell one value, or do some cells have lists?\n",
    "- What are the data types of each column?\n",
    "- Some sales may not actually include the sale price (target).  These rows should be dropped.\n",
    "- There are a lot of NA/None values.  Should these be dropped or replaced with something?\n",
    "    - You can drop rows or use various methods to fills NA's - use your best judgement for each column \n",
    "    - i.e. for some columns (like Garage), NA probably just means no Garage, so 0\n",
    "- Drop columns that aren't needed\n",
    "    - Don't keep the list price because it will be too close to the sale price. Assume we want to predict the price of houses not yet listed"
   ]
  },
  {
   "cell_type": "code",
   "execution_count": null,
   "metadata": {},
   "outputs": [],
   "source": [
    "# load and concatenate data here\n",
    "# drop or replace values as necessary"
   ]
  },
  {
   "cell_type": "markdown",
   "metadata": {},
   "source": [
    "### Dealing with Tags"
   ]
  },
  {
   "cell_type": "markdown",
   "metadata": {},
   "source": [
    "Consider the fact that with tags, there are a lot of categorical variables.\n",
    "- How many columns would we have if we OHE tags, city and state?\n",
    "- Perhaps we can get rid of tags that have a low frequency."
   ]
  },
  {
   "cell_type": "code",
   "execution_count": null,
   "metadata": {},
   "outputs": [],
   "source": [
    "# OHE categorical variables/ tags here\n",
    "# tags will have to be done manually"
   ]
  },
  {
   "cell_type": "markdown",
   "metadata": {},
   "source": [
    "### Dealing with Cities"
   ]
  },
  {
   "cell_type": "markdown",
   "metadata": {},
   "source": [
    "- Sales will vary drastically between cities and states.  Is there a way to keep information about which city it is without OHE?\n",
    "- Could we label encode or ordinal encode?  Yes, but this may have undesirable effects, giving nominal data ordinal values.\n",
    "- What we can do is use our training data to encode the mean sale price by city as a feature (a.k.a. Target Encoding)\n",
    "    - We can do this as long as we ONLY use the training data - we're using the available data to give us a 'starting guess' of the price for each city, without needing to encode city explicitly\n",
    "- If you replace cities or states with numerical values (like the mean price), make sure that the data is split so that we don't leak data into the training selection. This is a great time to train test split. Compute on the training data, and join these values to the test data\n",
    "- Note that you *may* have cities in the test set that are not in the training set. You don't want these to be NA, so maybe you can fill them with the overall mean"
   ]
  },
  {
   "cell_type": "code",
   "execution_count": null,
   "metadata": {},
   "outputs": [],
   "source": [
    "# perform train test split here\n",
    "# do something with state and city"
   ]
  },
  {
   "cell_type": "markdown",
   "metadata": {},
   "source": [
    "## Extra Data - STRETCH\n",
    "\n",
    "> This doesn't need to be part of your Minimum Viable Product (MVP). We recommend you write a functional, basic pipeline first, then circle back and join new data if you have time\n",
    "\n",
    "> If you do this, try to write your downstream steps in a way it will still work on a dataframe with different features!\n",
    "\n",
    "- You're not limited to just using the data provided to you. Think/ do some research about other features that might be useful to predict housing prices. \n",
    "- Can you import and join this data? Make sure you do any necessary preprocessing and make sure it is joined correctly.\n",
    "- Example suggestion: could mortgage interest rates in the year of the listing affect the price? "
   ]
  },
  {
   "cell_type": "code",
   "execution_count": null,
   "metadata": {},
   "outputs": [],
   "source": [
    "# import, join and preprocess new data here"
   ]
  },
  {
   "cell_type": "markdown",
   "metadata": {},
   "source": [
    "## EDA/ Visualization\n",
    "\n",
    "Remember all of the EDA that you've been learning about?  Now is a perfect time for it!\n",
    "- Look at distributions of numerical variables to see the shape of the data and detect outliers.    \n",
    "    - Consider transforming very skewed variables\n",
    "- Scatterplots of a numerical variable and the target go a long way to show correlations.\n",
    "- A heatmap will help detect highly correlated features, and we don't want these.\n",
    "    - You may have too many features to do this, in which case you can simply compute the most correlated feature-pairs and list them\n",
    "- Is there any overlap in any of the features? (redundant information, like number of this or that room...)"
   ]
  },
  {
   "cell_type": "code",
   "execution_count": null,
   "metadata": {},
   "outputs": [],
   "source": [
    "# perform EDA here"
   ]
  },
  {
   "cell_type": "markdown",
   "metadata": {},
   "source": [
    "## Scaling and Finishing Up"
   ]
  },
  {
   "cell_type": "markdown",
   "metadata": {},
   "source": [
    "Now is a great time to scale the data and save it once it's preprocessed.\n",
    "- You can save it in your data folder, but you may want to make a new `processed/` subfolder to keep it organized"
   ]
  },
  {
   "cell_type": "code",
   "execution_count": null,
   "metadata": {},
   "outputs": [],
   "source": []
  }
 ],
 "metadata": {
  "kernelspec": {
   "display_name": "Python 3",
   "language": "python",
   "name": "python3"
  },
  "language_info": {
   "codemirror_mode": {
    "name": "ipython",
    "version": 3
   },
   "file_extension": ".py",
   "mimetype": "text/x-python",
   "name": "python",
   "nbconvert_exporter": "python",
   "pygments_lexer": "ipython3",
   "version": "3.11.7"
  }
 },
 "nbformat": 4,
 "nbformat_minor": 2
}
